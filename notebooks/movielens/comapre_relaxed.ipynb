{
 "cells": [
  {
   "cell_type": "code",
   "execution_count": 1,
   "id": "618e6028",
   "metadata": {},
   "outputs": [
    {
     "name": "stdout",
     "output_type": "stream",
     "text": [
      "(CVXPY) Apr 25 12:30:31 PM: Encountered unexpected exception importing solver GLOP:\n",
      "RuntimeError('Unrecognized new version of ortools (9.12.4544). Expected < 9.10.0. Please open a feature request on cvxpy to enable support for this version.')\n",
      "(CVXPY) Apr 25 12:30:31 PM: Encountered unexpected exception importing solver PDLP:\n",
      "RuntimeError('Unrecognized new version of ortools (9.12.4544). Expected < 9.10.0. Please open a feature request on cvxpy to enable support for this version.')\n"
     ]
    }
   ],
   "source": [
    "import numpy as np\n",
    "import json\n",
    "import cvxpy as cp\n",
    "from scipy import sparse as sp\n",
    "import scipy.special as sps\n",
    "import seaborn as sns\n",
    "import matplotlib.pyplot as plt\n",
    "\n",
    "from src.problems.utils import sample_data_for_group\n",
    "from src.problems.problems import compute_producer_optimal_solution"
   ]
  },
  {
   "cell_type": "code",
   "execution_count": 2,
   "id": "1c85e826",
   "metadata": {},
   "outputs": [],
   "source": [
    "# load data\n",
    "with open(\"./data/amazon_predictions.npy\", \"rb\") as f:\n",
    "    REL_MATRIX = np.load(f)\n",
    "\n",
    "with open(\"./data/amazon_user_groups.json\", \"r\") as f:\n",
    "    GROUPS_MAP = json.load(f)"
   ]
  },
  {
   "cell_type": "code",
   "execution_count": null,
   "id": "dd72f0fd",
   "metadata": {},
   "outputs": [],
   "source": [
    "def compute_consumer_optimal_solution_cvar_relaxed_base(\n",
    "    rel_matrix: np.ndarray,\n",
    "    k_rec: int,\n",
    "    producer_max_min_utility: float,\n",
    "    gamma: float,\n",
    "    group_assignments: list[int],\n",
    "    alpha: float,\n",
    "):\n",
    "    # producer allocations\n",
    "    allocations = cp.Variable(rel_matrix.shape, boolean=False)\n",
    "\n",
    "    constraints = [\n",
    "        # there should be k_rec producers allocated to consumer\n",
    "        cp.sum(allocations, axis=1) == k_rec,\n",
    "        # each producer should get at least gamma * optimal producer utility\n",
    "        cp.sum(allocations, axis=0) >= gamma * producer_max_min_utility,\n",
    "        allocations >= 0,\n",
    "        allocations <= 1,\n",
    "    ]\n",
    "\n",
    "    # greedy producer allocations for consumer\n",
    "    greedy_allocations = np.sort(rel_matrix, axis=1)[:, -k_rec:].sum(axis=1)\n",
    "\n",
    "    # precomputing values for later processing\n",
    "    unique_groups, group_indices = np.unique(group_assignments, return_inverse=True)\n",
    "    num_groups = len(unique_groups)\n",
    "    group_masks = [group_indices == i for i in range(num_groups)]\n",
    "    group_sizes = np.array([mask.sum() for mask in group_masks])\n",
    "\n",
    "    allocations = cp.sum(cp.multiply(rel_matrix, allocations), axis=1)\n",
    "    # Compute normalized losses for all groups simultaneously (vectorized)\n",
    "    normalized_losses = []\n",
    "    for mask, size in zip(group_masks, group_sizes):\n",
    "        group_alloc = allocations[mask]\n",
    "        greedy_group_alloc = greedy_allocations[mask]\n",
    "\n",
    "        # compute loss for each group\n",
    "        normalized_loss = cp.sum(1 - (group_alloc / greedy_group_alloc)) / size\n",
    "        normalized_losses.append(normalized_loss)\n",
    "\n",
    "    # CVaR computation (vectorized)\n",
    "    rho = cp.Variable(nonneg=True)\n",
    "    cvar_objective = rho + (1 / ((1 - alpha) * num_groups)) * cp.sum(\n",
    "        cp.pos(cp.hstack(normalized_losses) - rho)\n",
    "    )\n",
    "\n",
    "    # Define and solve the optimization problem\n",
    "    problem = cp.Problem(cp.Minimize(cvar_objective), constraints)\n",
    "    problem.solve(solver=cp.GUROBI, warm_start=True, **{\"MIPGap\": 1e-3})\n",
    "\n",
    "    return problem.value, problem.variables()[1].value\n",
    "\n",
    "def compute_consumer_optimal_solution_cvar_relaxed_topk_rounding(\n",
    "    rel_matrix: np.ndarray,\n",
    "    k_rec: int,\n",
    "    producer_max_min_utility: float,\n",
    "    gamma: float,\n",
    "    group_assignments: list[int],\n",
    "    alpha: float,\n",
    ") -> tuple[float, np.ndarray]:\n",
    "    problem_value, allocations = compute_consumer_optimal_solution_cvar_relaxed_base(\n",
    "        rel_matrix,\n",
    "        k_rec,\n",
    "        producer_max_min_utility,\n",
    "        gamma,\n",
    "        group_assignments,\n",
    "        alpha,\n",
    "    )\n",
    "\n",
    "    idxs = allocations.argsort(axis=1)[:, -k_rec:]\n",
    "    alls = np.zeros_like(allocations)\n",
    "    alls[np.arange(allocations.shape[0])[:, None], idxs] = 1\n",
    "    return problem_value, alls\n",
    "\n",
    "\n",
    "\n",
    "\n",
    "\n",
    "def compute_consumer_optimal_solution_cvar_relaxed_naive_rounding(\n",
    "    rel_matrix: np.ndarray,\n",
    "    k_rec: int,\n",
    "    producer_max_min_utility: float,\n",
    "    gamma: float,\n",
    "    group_assignments: list[int],\n",
    "    alpha: float,\n",
    ") -> tuple[float, np.ndarray]:\n",
    "    problem_value, allocations = compute_consumer_optimal_solution_cvar_relaxed_base(\n",
    "        rel_matrix,\n",
    "        k_rec,\n",
    "        producer_max_min_utility,\n",
    "        gamma,\n",
    "        group_assignments,\n",
    "        alpha,\n",
    "    )\n",
    "    return problem_value, np.round(allocations, 1).astype(int)\n",
    "\n",
    "def compute_consumer_optimal_solution_cvar(\n",
    "    rel_matrix: np.ndarray,\n",
    "    k_rec: int,\n",
    "    producer_max_min_utility: float,\n",
    "    gamma: float,\n",
    "    group_assignments: list[int],\n",
    "    alpha: float,\n",
    ") -> tuple[float, np.ndarray]:\n",
    "    \"\"\"\n",
    "    Given a relevance matrix, this function returns the convex optimization problem\n",
    "    that minimizes the Conditional Value at Risk (CVaR) of the groups of consumer utility given a fixed number\n",
    "    of producers to recommend.\n",
    "\n",
    "    The problem is solved using CVaR (Conditional Value at Risk) approach.\n",
    "    The CVaR is defined as the average of the worst-case losses, where the worst-case losses are defined\n",
    "    as the losses that exceed a certain threshold (1 - alpha).\n",
    "    \"\"\"\n",
    "    # producer allocations\n",
    "    C, P = rel_matrix.shape\n",
    "\n",
    "    # 1) consumer‑greedy baseline\n",
    "    greedy = np.sort(rel_matrix, axis=1)[:, -k_rec:].sum(axis=1)   # (C,)\n",
    "\n",
    "    # 2) sparse group‐indicator G (shape G×C), with 1/|G_i| weights\n",
    "    unique_groups, inv = np.unique(group_assignments, return_inverse=True)\n",
    "    G = len(unique_groups)\n",
    "    sizes = np.bincount(inv)\n",
    "    data = 1.0 / sizes[inv]                                      # length C\n",
    "    G_sparse = sp.csr_matrix((data, (inv, np.arange(C))), shape=(G, C))\n",
    "\n",
    "    rel_c = cp.Constant(rel_matrix)\n",
    "    Gc = cp.Constant(G_sparse)\n",
    "    g_c = cp.Constant(greedy)\n",
    "\n",
    "    x = cp.Variable((C, P), boolean=True)\n",
    "    rho = cp.Variable(nonneg=True)\n",
    "    t = cp.Variable(G, nonneg=True)\n",
    "\n",
    "    u = cp.sum(cp.multiply(rel_c, x), axis=1)\n",
    "    loss_c = 1 - u / g_c\n",
    "    loss_g = Gc @ loss_c\n",
    "\n",
    "    constraints = [\n",
    "        cp.sum(x, axis=1) == k_rec,\n",
    "        cp.sum(x, axis=0) >= gamma * producer_max_min_utility,\n",
    "        t >= loss_g - rho,\n",
    "    ]\n",
    "    cvar_obj = rho + (1.0 / ((1 - alpha) * G)) * cp.sum(t)\n",
    "\n",
    "    prob = cp.Problem(cp.Minimize(cvar_obj), constraints)\n",
    "    prob.solve(solver=cp.GUROBI, warm_start=True, **{\"MIPGap\": 1e-3})\n",
    "\n",
    "    return prob.value, x.value"
   ]
  },
  {
   "cell_type": "code",
   "execution_count": 4,
   "id": "72c5b574",
   "metadata": {},
   "outputs": [],
   "source": [
    "N_CONSUMERS = 300\n",
    "N_PRODUCERS = 300\n",
    "GROUP_KEY = \"top_category\"\n",
    "K_REC = 10\n",
    "SOLVER = cp.GUROBI"
   ]
  },
  {
   "cell_type": "code",
   "execution_count": 5,
   "id": "453dceb7",
   "metadata": {},
   "outputs": [
    {
     "name": "stdout",
     "output_type": "stream",
     "text": [
      "Set parameter WLSAccessID\n",
      "Set parameter WLSSecret\n",
      "Set parameter LicenseID to value 2653936\n",
      "Academic license 2653936 - for non-commercial use only - registered to do___@student.uva.nl\n"
     ]
    }
   ],
   "source": [
    "rel_matrix_sampled, consumer_ids, group_assignments = sample_data_for_group(\n",
    "    n_consumers=N_CONSUMERS,\n",
    "    n_producers=N_PRODUCERS,\n",
    "    groups_map=GROUPS_MAP,\n",
    "    group_key=GROUP_KEY,\n",
    "    data=REL_MATRIX,\n",
    "    naive_sampling=True,\n",
    "    seed=42,\n",
    ")\n",
    "\n",
    "producer_max_min_utility, _ = compute_producer_optimal_solution(\n",
    "    rel_matrix=rel_matrix_sampled,\n",
    "    k_rec=K_REC,\n",
    "    solver=SOLVER,\n",
    ")"
   ]
  },
  {
   "cell_type": "code",
   "execution_count": 6,
   "id": "b3cdd10c",
   "metadata": {},
   "outputs": [],
   "source": [
    "solution, allocations = compute_consumer_optimal_solution_cvar_relaxed(\n",
    "    rel_matrix=rel_matrix_sampled,\n",
    "    k_rec=K_REC,\n",
    "    producer_max_min_utility=producer_max_min_utility,\n",
    "    gamma=0.5,\n",
    "    group_assignments=group_assignments,\n",
    "    alpha=0.95,\n",
    ")"
   ]
  },
  {
   "cell_type": "code",
   "execution_count": 38,
   "id": "fd6a7078",
   "metadata": {},
   "outputs": [],
   "source": [
    "# save allocation into file\n",
    "#with open(\"cvar_allocations.json\", \"w\") as f:\n",
    "    #json.dump(allocations.tolist(), f)\n",
    "\n",
    "with open(\"cvar_allocations.json\", \"r\") as f:\n",
    "    cvar_allocations = json.load(f)\n",
    "    cvar_allocations = np.array(cvar_allocations)"
   ]
  },
  {
   "cell_type": "code",
   "execution_count": 39,
   "id": "d0fd8eb1",
   "metadata": {},
   "outputs": [
    {
     "name": "stdout",
     "output_type": "stream",
     "text": [
      "5.0\n",
      "226.0\n"
     ]
    }
   ],
   "source": [
    "print(np.min(cvar_allocations.sum(axis=0)))\n",
    "print(np.max(cvar_allocations.sum(axis=0)))"
   ]
  },
  {
   "cell_type": "code",
   "execution_count": 9,
   "id": "f112bcfe",
   "metadata": {},
   "outputs": [],
   "source": [
    "alls = np.round(allocations, 1).astype(int)"
   ]
  },
  {
   "cell_type": "code",
   "execution_count": 10,
   "id": "5ff8fcc3",
   "metadata": {},
   "outputs": [
    {
     "data": {
      "image/png": "[encoded data removed]",
      "text/plain": [
       "<Figure size 500x500 with 1 Axes>"
      ]
     },
     "metadata": {},
     "output_type": "display_data"
    },
    {
     "name": "stdout",
     "output_type": "stream",
     "text": [
      "3 224\n"
     ]
    },
    {
     "data": {
      "image/png": "[encoded data removed]",
      "text/plain": [
       "<Figure size 500x500 with 1 Axes>"
      ]
     },
     "metadata": {},
     "output_type": "display_data"
    }
   ],
   "source": [
    "# distribution of allocations\n",
    "sns.displot(alls.sum(axis=1), bins=10)\n",
    "plt.show()\n",
    "sns.displot(alls.sum(axis=0), bins=10)\n",
    "\n",
    "print(np.min(alls.sum(axis=0)), np.max(alls.sum(axis=0)))"
   ]
  },
  {
   "cell_type": "code",
   "execution_count": 42,
   "id": "a63cf4b7",
   "metadata": {},
   "outputs": [],
   "source": [
    "def top_k_rounding(allocations, k_rec):\n",
    "    idxs = allocations.argsort(axis=1)[:, -k_rec:]\n",
    "    alls = np.zeros_like(allocations)\n",
    "    # set the top 10 allocations to 1\n",
    "    alls[np.arange(allocations.shape[0])[:, None], idxs] = 1\n",
    "    return alls\n",
    "\n",
    "def naive_rounding(allocations):\n",
    "    # naive rounding\n",
    "    return np.round(allocations, 1).astype(int)\n"
   ]
  },
  {
   "cell_type": "code",
   "execution_count": 45,
   "id": "762db009",
   "metadata": {},
   "outputs": [
    {
     "name": "stdout",
     "output_type": "stream",
     "text": [
      "Topk rounding pearson r = 0.951379310344828\n",
      "Naive rounding pearson r = 0.9514856462813451\n",
      "Percentage of producers with lower than min utility (topk rounding) 0.006666666666666667\n",
      "Percentage of producers with lower than min utility (naive rounding) 0.15666666666666668\n"
     ]
    }
   ],
   "source": [
    "top_k_allocs = top_k_rounding(allocations, 10)\n",
    "naive_allocs = naive_rounding(allocations)\n",
    "\n",
    "print(\"Topk rounding pearson r =\", np.corrcoef(top_k_allocs.flatten(), cvar_allocations.flatten())[0, 1])\n",
    "print(\"Naive rounding pearson r =\", np.corrcoef(naive_allocs.flatten(), cvar_allocations.flatten())[0, 1])\n",
    "\n",
    "min_prod_util = 5\n",
    "print(\"Percentage of producers with lower than min utility (topk rounding)\", np.sum(top_k_allocs.sum(axis=0) < min_prod_util) / allocations.shape[1])\n",
    "print(\"Percentage of producers with lower than min utility (naive rounding)\", np.sum(naive_allocs.sum(axis=0) < min_prod_util) / allocations.shape[1])"
   ]
  }
 ],
 "metadata": {
  "kernelspec": {
   "display_name": "msc-thesis",
   "language": "python",
   "name": "msc-thesis"
  },
  "language_info": {
   "codemirror_mode": {
    "name": "ipython",
    "version": 3
   },
   "file_extension": ".py",
   "mimetype": "text/x-python",
   "name": "python",
   "nbconvert_exporter": "python",
   "pygments_lexer": "ipython3",
   "version": "3.12.9"
  }
 },
 "nbformat": 4,
 "nbformat_minor": 5
}

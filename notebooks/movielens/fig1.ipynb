{
 "cells": [
  {
   "cell_type": "code",
   "execution_count": 2,
   "metadata": {},
   "outputs": [
    {
     "name": "stderr",
     "output_type": "stream",
     "text": [
      " 80%|████████  | 4/5 [46:01<11:30, 690.25s/it]"
     ]
    },
    {
     "name": "stdout",
     "output_type": "stream",
     "text": [
      "Failure:interrupted\n"
     ]
    },
    {
     "name": "stderr",
     "output_type": "stream",
     "text": [
      "\n"
     ]
    },
    {
     "ename": "SolverError",
     "evalue": "Solver 'SCS' failed. Try another solver, or solve with verbose=True for more information.",
     "output_type": "error",
     "traceback": [
      "\u001b[0;31m---------------------------------------------------------------------------\u001b[0m",
      "\u001b[0;31mSolverError\u001b[0m                               Traceback (most recent call last)",
      "Cell \u001b[0;32mIn[2], line 60\u001b[0m\n\u001b[1;32m     55\u001b[0m delta  \u001b[38;5;241m=\u001b[39m \u001b[38;5;241m1\u001b[39m\n\u001b[1;32m     57\u001b[0m fig_file \u001b[38;5;241m=\u001b[39m \u001b[38;5;124m\"\u001b[39m\u001b[38;5;124mfig1.png\u001b[39m\u001b[38;5;124m\"\u001b[39m\n\u001b[0;32m---> 60\u001b[0m curves \u001b[38;5;241m=\u001b[39m \u001b[43msample_curves\u001b[49m\u001b[43m(\u001b[49m\u001b[43mphis\u001b[49m\u001b[43m,\u001b[49m\u001b[43m \u001b[49m\u001b[43mm\u001b[49m\u001b[43m,\u001b[49m\u001b[43m \u001b[49m\u001b[43mn\u001b[49m\u001b[43m,\u001b[49m\u001b[43m \u001b[49m\u001b[43mk\u001b[49m\u001b[43m,\u001b[49m\u001b[43m \u001b[49m\u001b[43mdelta\u001b[49m\u001b[43m,\u001b[49m\u001b[43m \u001b[49m\u001b[43mnum_pts\u001b[49m\u001b[43m,\u001b[49m\u001b[43m \u001b[49m\u001b[43mnum_samples\u001b[49m\u001b[43m)\u001b[49m\n\u001b[1;32m     61\u001b[0m plot_curves(phis, curves, fig_file)\n",
      "Cell \u001b[0;32mIn[2], line 15\u001b[0m, in \u001b[0;36msample_curves\u001b[0;34m(phis, m, n, k, delta, num_pts, num_samples)\u001b[0m\n\u001b[1;32m     13\u001b[0m \u001b[38;5;28;01mfor\u001b[39;00m sample \u001b[38;5;129;01min\u001b[39;00m \u001b[38;5;28mrange\u001b[39m(num_samples):\n\u001b[1;32m     14\u001b[0m     U \u001b[38;5;241m=\u001b[39m get_mallows_utilities(m, n, phi)\n\u001b[0;32m---> 15\u001b[0m     pairs \u001b[38;5;241m=\u001b[39m \u001b[43msolver\u001b[49m\u001b[38;5;241;43m.\u001b[39;49m\u001b[43mget_user_curve\u001b[49m\u001b[43m(\u001b[49m\u001b[43mU\u001b[49m\u001b[43m,\u001b[49m\u001b[43m \u001b[49m\u001b[43mk\u001b[49m\u001b[43m,\u001b[49m\u001b[43m \u001b[49m\u001b[43mdelta\u001b[49m\u001b[43m,\u001b[49m\u001b[43m \u001b[49m\u001b[43mnum_pts\u001b[49m\u001b[43m)\u001b[49m\n\u001b[1;32m     16\u001b[0m     sample_pairs\u001b[38;5;241m.\u001b[39mappend(pairs)\n\u001b[1;32m     17\u001b[0m all_pairs\u001b[38;5;241m.\u001b[39mappend(np\u001b[38;5;241m.\u001b[39marray(sample_pairs))\n",
      "File \u001b[0;32m~/github/msc-thesis/notebooks/movielens/twosf_solver.py:105\u001b[0m, in \u001b[0;36mget_user_curve\u001b[0;34m(U, k, delta, n_pts, just_value)\u001b[0m\n\u001b[1;32m    103\u001b[0m pairs \u001b[38;5;241m=\u001b[39m []\n\u001b[1;32m    104\u001b[0m \u001b[38;5;28;01mfor\u001b[39;00m gamma_item \u001b[38;5;129;01min\u001b[39;00m gamma_items:\n\u001b[0;32m--> 105\u001b[0m     v_user \u001b[38;5;241m=\u001b[39m \u001b[43mconstrained_maxmin_user_given_item\u001b[49m\u001b[43m(\u001b[49m\n\u001b[1;32m    106\u001b[0m \u001b[43m        \u001b[49m\u001b[43mU\u001b[49m\u001b[43m,\u001b[49m\u001b[43m \u001b[49m\u001b[43mk\u001b[49m\u001b[43m,\u001b[49m\u001b[43m \u001b[49m\u001b[43mdelta\u001b[49m\u001b[43m,\u001b[49m\u001b[43m \u001b[49m\u001b[43mgamma_item\u001b[49m\u001b[43m \u001b[49m\u001b[38;5;241;43m*\u001b[39;49m\u001b[43m \u001b[49m\u001b[43mitem_max\u001b[49m\u001b[43m,\u001b[49m\u001b[43m \u001b[49m\u001b[43mu_star\u001b[49m\u001b[43m,\u001b[49m\u001b[43m \u001b[49m\u001b[43mjust_value\u001b[49m\u001b[38;5;241;43m=\u001b[39;49m\u001b[43mjust_value\u001b[49m\n\u001b[1;32m    107\u001b[0m \u001b[43m    \u001b[49m\u001b[43m)\u001b[49m\n\u001b[1;32m    108\u001b[0m     pair \u001b[38;5;241m=\u001b[39m (gamma_item, v_user \u001b[38;5;241m/\u001b[39m user_max) \u001b[38;5;28;01mif\u001b[39;00m just_value \u001b[38;5;28;01melse\u001b[39;00m (gamma_item, v_user)\n\u001b[1;32m    109\u001b[0m     pairs\u001b[38;5;241m.\u001b[39mappend(pair)\n",
      "File \u001b[0;32m~/github/msc-thesis/notebooks/movielens/twosf_solver.py:42\u001b[0m, in \u001b[0;36mconstrained_maxmin_user_given_item\u001b[0;34m(U, k, delta, v, u_star, just_value)\u001b[0m\n\u001b[1;32m     35\u001b[0m constraints\u001b[38;5;241m.\u001b[39mappend(cp\u001b[38;5;241m.\u001b[39msum(cp\u001b[38;5;241m.\u001b[39mmultiply(X, U)) \u001b[38;5;241m>\u001b[39m\u001b[38;5;241m=\u001b[39m (\u001b[38;5;241m1\u001b[39m \u001b[38;5;241m-\u001b[39m delta) \u001b[38;5;241m*\u001b[39m u_star)\n\u001b[1;32m     37\u001b[0m problem \u001b[38;5;241m=\u001b[39m cp\u001b[38;5;241m.\u001b[39mProblem(\n\u001b[1;32m     38\u001b[0m     cp\u001b[38;5;241m.\u001b[39mMaximize(cp\u001b[38;5;241m.\u001b[39mmin(cp\u001b[38;5;241m.\u001b[39msum(cp\u001b[38;5;241m.\u001b[39mmultiply(X, U), axis\u001b[38;5;241m=\u001b[39m\u001b[38;5;241m1\u001b[39m) \u001b[38;5;241m/\u001b[39m cp\u001b[38;5;241m.\u001b[39mmax(U, axis\u001b[38;5;241m=\u001b[39m\u001b[38;5;241m1\u001b[39m))),\n\u001b[1;32m     39\u001b[0m     constraints,\n\u001b[1;32m     40\u001b[0m )\n\u001b[0;32m---> 42\u001b[0m \u001b[43mproblem\u001b[49m\u001b[38;5;241;43m.\u001b[39;49m\u001b[43msolve\u001b[49m\u001b[43m(\u001b[49m\u001b[43msolver\u001b[49m\u001b[38;5;241;43m=\u001b[39;49m\u001b[38;5;124;43m\"\u001b[39;49m\u001b[38;5;124;43mSCS\u001b[39;49m\u001b[38;5;124;43m\"\u001b[39;49m\u001b[43m)\u001b[49m\n\u001b[1;32m     44\u001b[0m maxmin \u001b[38;5;241m=\u001b[39m problem\u001b[38;5;241m.\u001b[39mvalue\n\u001b[1;32m     45\u001b[0m \u001b[38;5;28;01mif\u001b[39;00m just_value:\n",
      "File \u001b[0;32m~/github/msc-thesis/.venv/lib/python3.12/site-packages/cvxpy/problems/problem.py:577\u001b[0m, in \u001b[0;36mProblem.solve\u001b[0;34m(self, *args, **kwargs)\u001b[0m\n\u001b[1;32m    574\u001b[0m         \u001b[38;5;28;01mraise\u001b[39;00m \u001b[38;5;167;01mValueError\u001b[39;00m(\n\u001b[1;32m    575\u001b[0m             \u001b[38;5;124m\"\u001b[39m\u001b[38;5;124mCannot specify both \u001b[39m\u001b[38;5;124m'\u001b[39m\u001b[38;5;124msolver\u001b[39m\u001b[38;5;124m'\u001b[39m\u001b[38;5;124m and \u001b[39m\u001b[38;5;124m'\u001b[39m\u001b[38;5;124msolver_path\u001b[39m\u001b[38;5;124m'\u001b[39m\u001b[38;5;124m. Please choose one.\u001b[39m\u001b[38;5;124m\"\u001b[39m)\n\u001b[1;32m    576\u001b[0m     \u001b[38;5;28;01mreturn\u001b[39;00m \u001b[38;5;28mself\u001b[39m\u001b[38;5;241m.\u001b[39m_solve_solver_path(solve_func,solver_path, args, kwargs)\n\u001b[0;32m--> 577\u001b[0m \u001b[38;5;28;01mreturn\u001b[39;00m \u001b[43msolve_func\u001b[49m\u001b[43m(\u001b[49m\u001b[38;5;28;43mself\u001b[39;49m\u001b[43m,\u001b[49m\u001b[43m \u001b[49m\u001b[38;5;241;43m*\u001b[39;49m\u001b[43margs\u001b[49m\u001b[43m,\u001b[49m\u001b[43m \u001b[49m\u001b[38;5;241;43m*\u001b[39;49m\u001b[38;5;241;43m*\u001b[39;49m\u001b[43mkwargs\u001b[49m\u001b[43m)\u001b[49m\n",
      "File \u001b[0;32m~/github/msc-thesis/.venv/lib/python3.12/site-packages/cvxpy/problems/problem.py:1164\u001b[0m, in \u001b[0;36mProblem._solve\u001b[0;34m(self, solver, warm_start, verbose, gp, qcp, requires_grad, enforce_dpp, ignore_dpp, canon_backend, **kwargs)\u001b[0m\n\u001b[1;32m   1162\u001b[0m end \u001b[38;5;241m=\u001b[39m time\u001b[38;5;241m.\u001b[39mtime()\n\u001b[1;32m   1163\u001b[0m \u001b[38;5;28mself\u001b[39m\u001b[38;5;241m.\u001b[39m_solve_time \u001b[38;5;241m=\u001b[39m end \u001b[38;5;241m-\u001b[39m start\n\u001b[0;32m-> 1164\u001b[0m \u001b[38;5;28;43mself\u001b[39;49m\u001b[38;5;241;43m.\u001b[39;49m\u001b[43munpack_results\u001b[49m\u001b[43m(\u001b[49m\u001b[43msolution\u001b[49m\u001b[43m,\u001b[49m\u001b[43m \u001b[49m\u001b[43msolving_chain\u001b[49m\u001b[43m,\u001b[49m\u001b[43m \u001b[49m\u001b[43minverse_data\u001b[49m\u001b[43m)\u001b[49m\n\u001b[1;32m   1165\u001b[0m \u001b[38;5;28;01mif\u001b[39;00m verbose:\n\u001b[1;32m   1166\u001b[0m     \u001b[38;5;28mprint\u001b[39m(_FOOTER)\n",
      "File \u001b[0;32m~/github/msc-thesis/.venv/lib/python3.12/site-packages/cvxpy/problems/problem.py:1489\u001b[0m, in \u001b[0;36mProblem.unpack_results\u001b[0;34m(self, solution, chain, inverse_data)\u001b[0m\n\u001b[1;32m   1487\u001b[0m     warnings\u001b[38;5;241m.\u001b[39mwarn(INF_OR_UNB_MESSAGE)\n\u001b[1;32m   1488\u001b[0m \u001b[38;5;28;01mif\u001b[39;00m solution\u001b[38;5;241m.\u001b[39mstatus \u001b[38;5;129;01min\u001b[39;00m s\u001b[38;5;241m.\u001b[39mERROR:\n\u001b[0;32m-> 1489\u001b[0m     \u001b[38;5;28;01mraise\u001b[39;00m error\u001b[38;5;241m.\u001b[39mSolverError(\n\u001b[1;32m   1490\u001b[0m             \u001b[38;5;124m\"\u001b[39m\u001b[38;5;124mSolver \u001b[39m\u001b[38;5;124m'\u001b[39m\u001b[38;5;132;01m%s\u001b[39;00m\u001b[38;5;124m'\u001b[39m\u001b[38;5;124m failed. \u001b[39m\u001b[38;5;124m\"\u001b[39m \u001b[38;5;241m%\u001b[39m chain\u001b[38;5;241m.\u001b[39msolver\u001b[38;5;241m.\u001b[39mname() \u001b[38;5;241m+\u001b[39m\n\u001b[1;32m   1491\u001b[0m             \u001b[38;5;124m\"\u001b[39m\u001b[38;5;124mTry another solver, or solve with verbose=True for more \u001b[39m\u001b[38;5;124m\"\u001b[39m\n\u001b[1;32m   1492\u001b[0m             \u001b[38;5;124m\"\u001b[39m\u001b[38;5;124minformation.\u001b[39m\u001b[38;5;124m\"\u001b[39m)\n\u001b[1;32m   1494\u001b[0m \u001b[38;5;28mself\u001b[39m\u001b[38;5;241m.\u001b[39munpack(solution)\n\u001b[1;32m   1495\u001b[0m \u001b[38;5;28mself\u001b[39m\u001b[38;5;241m.\u001b[39m_solver_stats \u001b[38;5;241m=\u001b[39m SolverStats\u001b[38;5;241m.\u001b[39mfrom_dict(\u001b[38;5;28mself\u001b[39m\u001b[38;5;241m.\u001b[39m_solution\u001b[38;5;241m.\u001b[39mattr,\n\u001b[1;32m   1496\u001b[0m                                  chain\u001b[38;5;241m.\u001b[39msolver\u001b[38;5;241m.\u001b[39mname())\n",
      "\u001b[0;31mSolverError\u001b[0m: Solver 'SCS' failed. Try another solver, or solve with verbose=True for more information."
     ]
    }
   ],
   "source": [
    "import matplotlib as mpl\n",
    "import matplotlib.pyplot as plt\n",
    "import numpy as np\n",
    "import twosf_solver as solver\n",
    "from sample_mallows import get_mallows_utilities\n",
    "from tqdm import tqdm\n",
    "\n",
    "\n",
    "def sample_curves(phis, m, n, k, delta, num_pts, num_samples):\n",
    "    all_pairs = []\n",
    "    for phi in tqdm(phis):\n",
    "        sample_pairs = []\n",
    "        for sample in range(num_samples):\n",
    "            U = get_mallows_utilities(m, n, phi)\n",
    "            pairs = solver.get_user_curve(U, k, delta, num_pts)\n",
    "            sample_pairs.append(pairs)\n",
    "        all_pairs.append(np.array(sample_pairs))\n",
    "\n",
    "    return all_pairs\n",
    "\n",
    "\n",
    "def plot_curves(phis, all_pairs, fig_file_name):\n",
    "    viridis = mpl.colormaps[\"viridis\"]\n",
    "\n",
    "    for phi, sample_pairs in zip(phis, all_pairs):\n",
    "        color = viridis(phi)\n",
    "        sp_mean = np.mean(sample_pairs[:, :, 1], axis=0)\n",
    "        sp_std = np.std(sample_pairs[:, :, 1], axis=0, ddof=1)\n",
    "\n",
    "        plt.plot(\n",
    "            sample_pairs[0, :, 0], sp_mean, color=color, label=(r\"$\\phi =$ %.2f\" % phi)\n",
    "        )\n",
    "        plt.fill_between(\n",
    "            sample_pairs[0, :, 0],\n",
    "            sp_mean - 2 * sp_std / np.sqrt(num_samples),\n",
    "            sp_mean + 2 * sp_std / np.sqrt(num_samples),\n",
    "            color=color,\n",
    "            alpha=0.3,\n",
    "        )\n",
    "\n",
    "    plt.ylabel(\"Minimum normalized user utility\")\n",
    "    plt.xlabel(r\"Minimum normalized item utility guaranteed ($\\gamma_I$)\")\n",
    "    plt.legend()\n",
    "    plt.savefig(fig_file_name)\n",
    "    plt.show()\n",
    "\n",
    "\n",
    "phis = np.linspace(0.1, 0.9, 5)\n",
    "\n",
    "n = 300\n",
    "m = 40\n",
    "num_samples = 10\n",
    "num_pts = 50\n",
    "k = 1\n",
    "delta  = 1\n",
    "\n",
    "fig_file = \"fig1.png\"\n",
    "\n",
    "\n",
    "curves = sample_curves(phis, m, n, k, delta, num_pts, num_samples)\n",
    "plot_curves(phis, curves, fig_file)"
   ]
  }
 ],
 "metadata": {
  "kernelspec": {
   "display_name": ".venv",
   "language": "python",
   "name": "python3"
  },
  "language_info": {
   "codemirror_mode": {
    "name": "ipython",
    "version": 3
   },
   "file_extension": ".py",
   "mimetype": "text/x-python",
   "name": "python",
   "nbconvert_exporter": "python",
   "pygments_lexer": "ipython3",
   "version": "3.12.7"
  }
 },
 "nbformat": 4,
 "nbformat_minor": 2
}

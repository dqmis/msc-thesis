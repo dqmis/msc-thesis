{
 "cells": [
  {
   "cell_type": "code",
   "execution_count": 28,
   "id": "eb3bf242",
   "metadata": {},
   "outputs": [],
   "source": [
    "import json\n",
    "import matplotlib.pyplot as plt\n",
    "from pathlib import Path\n",
    "import numpy as np"
   ]
  },
  {
   "cell_type": "code",
   "execution_count": 16,
   "id": "adaf82b3",
   "metadata": {},
   "outputs": [
    {
     "name": "stdout",
     "output_type": "stream",
     "text": [
      "plots.ipynb\n",
      "relaxed_cvar_tradeoff.ipynb\n",
      "gradient_experiments.ipynb\n"
     ]
    }
   ],
   "source": [
    "# print files in the current directory\n",
    "for file in Path('.').iterdir():\n",
    "    if file.is_file():\n",
    "        print(file.name)"
   ]
  },
  {
   "cell_type": "code",
   "execution_count": 63,
   "id": "fee1c0d7",
   "metadata": {},
   "outputs": [
    {
     "name": "stdout",
     "output_type": "stream",
     "text": [
      "{'0': [0.787380062535756, 0.833317326425081, 0.7278377529226838], '0.1': [0.787380062535756, 0.833317326425081, 0.7278377529226838], '0.35': [0.787380062535756, 0.833317326425081, 0.7278377529226838], '0.5': [0.787380062535756, 0.833317326425081, 0.7278377529226838], '0.75': [0.787380062535756, 0.833317326425081, 0.7278377529226838], '1': [0.787380062535756, 0.833317326425081, 0.7278377529226838]}\n",
      "{'0': [3.7133667714765553, 3.8683400886104273, 3.477477698274753], '0.1': [3.7133667714765553, 3.8683400886104273, 3.477477698274753], '0.35': [3.7133667714765553, 3.8683400886104273, 3.477477698274753], '0.5': [3.7133667714765553, 3.8683400886104273, 3.477477698274753], '0.75': [3.7133667714765553, 3.8683400886104273, 3.477477698274753], '1': [3.7133667714765553, 3.8683400886104273, 3.477477698274753]}\n",
      "{'0': [7.216245866768431, 7.4937662041711315, 6.5122414474284565], '0.1': [7.216245866768431, 7.4937662041711315, 6.5122414474284565], '0.35': [7.216245866768431, 7.4937662041711315, 6.5122414474284565], '0.5': [7.216245866768431, 7.4937662041711315, 6.5122414474284565], '0.75': [7.216245866768431, 7.4937662041711315, 6.5122414474284565], '1': [7.216245866768431, 7.4937662041711315, 6.5122414474284565]}\n"
     ]
    },
    {
     "data": {
      "text/plain": [
       "{1: {'0': {'mean': np.float64(1.0), 'std': np.float64(0.0)},\n",
       "  '0.1': {'mean': np.float64(1.0), 'std': np.float64(0.0)},\n",
       "  '0.35': {'mean': np.float64(1.0), 'std': np.float64(0.0)},\n",
       "  '0.5': {'mean': np.float64(1.0), 'std': np.float64(0.0)},\n",
       "  '0.75': {'mean': np.float64(1.0), 'std': np.float64(0.0)},\n",
       "  '1': {'mean': np.float64(1.0), 'std': np.float64(0.0)}},\n",
       " 5: {'0': {'mean': np.float64(1.0), 'std': np.float64(0.0)},\n",
       "  '0.1': {'mean': np.float64(1.0), 'std': np.float64(0.0)},\n",
       "  '0.35': {'mean': np.float64(1.0), 'std': np.float64(0.0)},\n",
       "  '0.5': {'mean': np.float64(1.0), 'std': np.float64(0.0)},\n",
       "  '0.75': {'mean': np.float64(1.0), 'std': np.float64(0.0)},\n",
       "  '1': {'mean': np.float64(1.0), 'std': np.float64(0.0)}},\n",
       " 10: {'0': {'mean': np.float64(1.0), 'std': np.float64(0.0)},\n",
       "  '0.1': {'mean': np.float64(1.0), 'std': np.float64(0.0)},\n",
       "  '0.35': {'mean': np.float64(1.0), 'std': np.float64(0.0)},\n",
       "  '0.5': {'mean': np.float64(1.0), 'std': np.float64(0.0)},\n",
       "  '0.75': {'mean': np.float64(1.0), 'std': np.float64(0.0)},\n",
       "  '1': {'mean': np.float64(1.0), 'std': np.float64(0.0)}}}"
      ]
     },
     "execution_count": 63,
     "metadata": {},
     "output_type": "execute_result"
    }
   ],
   "source": [
    "# k-rec results\n",
    "base_path = Path(\"../../results/1746445476\")\n",
    "\n",
    "mean_results = [\n",
    "    \"mean_usage_group_500_200_1_0_0.1_0.35_0.5_0.75_1_0.95.json\",\n",
    "    \"mean_usage_group_500_200_5_0_0.1_0.35_0.5_0.75_1_0.95.json\",\n",
    "    \"mean_usage_group_500_200_10_0_0.1_0.35_0.5_0.75_1_0.95.json\",\n",
    "]\n",
    "\n",
    "parsed_problem_results = {\n",
    "    \"mean\": {},\n",
    "    \"min\": {},\n",
    "}\n",
    "\n",
    "for (result, k_rec) in zip(mean_results, [1, 5, 10]):\n",
    "    with open(base_path / result) as f:\n",
    "        data = json.load(f)\n",
    "        problem_results = data[\"results\"][\"usage_group\"][1][\"0.95\"]\n",
    "        max_consumer_util_results = problem_results[\"0\"]\n",
    "        for gamma, results in problem_results.items():\n",
    "            normalized_values =  np.array(results) / np.array(max_consumer_util_results)\n",
    "            problem_results[gamma] = {\n",
    "                \"mean\": np.mean(normalized_values),\n",
    "                \"std\": np.std(normalized_values),\n",
    "            }\n",
    "\n",
    "        parsed_problem_results[\"mean\"][k_rec] = problem_results\n",
    "\n",
    "\n",
    "\n",
    "min_results = [\n",
    "    \"min_usage_group_500_200_1_0_0.1_0.35_0.5_0.75_1_0.95.json\",\n",
    "    \"min_usage_group_500_200_5_0_0.1_0.35_0.5_0.75_1_0.95.json\",\n",
    "    \"min_usage_group_500_200_10_0_0.1_0.35_0.5_0.75_1_0.95.json\",\n",
    "]\n",
    "\n",
    "for (result, k_rec) in zip(min_results, [1, 5, 10]):\n",
    "    with open(base_path / result) as f:\n",
    "        data = json.load(f)\n",
    "        problem_results = data[\"results\"][\"usage_group\"][1][\"0.95\"]\n",
    "        print(problem_results)\n",
    "        max_consumer_util_results = problem_results[\"0\"]\n",
    "        for gamma, results in problem_results.items():\n",
    "            normalized_values =  np.array(results) / np.array(max_consumer_util_results)\n",
    "            problem_results[gamma] = {\n",
    "                \"mean\": np.mean(normalized_values),\n",
    "                \"std\": np.std(normalized_values),\n",
    "            }\n",
    "\n",
    "        parsed_problem_results[\"min\"][k_rec] = problem_results\n",
    "\n",
    "parsed_problem_results[\"min\"]"
   ]
  },
  {
   "cell_type": "code",
   "execution_count": 65,
   "id": "5f10d0a2",
   "metadata": {},
   "outputs": [
    {
     "data": {
      "text/plain": [
       "[<matplotlib.lines.Line2D at 0x10d52bfb0>]"
      ]
     },
     "execution_count": 65,
     "metadata": {},
     "output_type": "execute_result"
    },
    {
     "data": {
      "image/png": "[encoded data removed]",
      "text/plain": [
       "<Figure size 640x480 with 1 Axes>"
      ]
     },
     "metadata": {},
     "output_type": "display_data"
    }
   ],
   "source": [
    "x = [float(key) for key, _ in parsed_problem_results[\"min\"][1].items()]\n",
    "y = [val[\"mean\"] for _, val in parsed_problem_results[\"min\"][1].items()]\n",
    "\n",
    "plt.plot(x, y, label=\"k-rec min\", marker=\"o\")"
   ]
  }
 ],
 "metadata": {
  "kernelspec": {
   "display_name": ".venv",
   "language": "python",
   "name": "python3"
  },
  "language_info": {
   "codemirror_mode": {
    "name": "ipython",
    "version": 3
   },
   "file_extension": ".py",
   "mimetype": "text/x-python",
   "name": "python",
   "nbconvert_exporter": "python",
   "pygments_lexer": "ipython3",
   "version": "3.12.7"
  }
 },
 "nbformat": 4,
 "nbformat_minor": 5
}

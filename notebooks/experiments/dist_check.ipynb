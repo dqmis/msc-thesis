{
 "cells": [
  {
   "cell_type": "code",
   "execution_count": 1,
   "id": "ae4a723d",
   "metadata": {},
   "outputs": [],
   "source": [
    "import numpy as np\n",
    "import json\n",
    "import cvxpy as cp\n",
    "from pathlib import Path\n",
    "import matplotlib.pyplot as plt\n",
    "import seaborn as sns\n",
    "import matplotlib as mpl\n",
    "\n",
    "from src.problems.utils import sample_data_for_group\n",
    "from src.problems.problems import (\n",
    "    _compute_consumer_optimal_solution_cvar,\n",
    "    _compute_consumer_optimal_solution_mean,\n",
    "    _compute_consumer_optimal_solution_min\n",
    ")"
   ]
  },
  {
   "cell_type": "code",
   "execution_count": 2,
   "id": "0a46a770",
   "metadata": {},
   "outputs": [],
   "source": [
    "sns.set_style(\"whitegrid\")\n",
    "mpl.rc('font', **{'size': 14})\n",
    "plt.rcParams[\"font.family\"] = \"Times New Roman\""
   ]
  },
  {
   "cell_type": "code",
   "execution_count": 3,
   "id": "1c63a762",
   "metadata": {},
   "outputs": [],
   "source": [
    "DATA_PATH_ROOT = Path(\"../../data\")"
   ]
  },
  {
   "cell_type": "code",
   "execution_count": 4,
   "id": "0b3fe967",
   "metadata": {},
   "outputs": [],
   "source": [
    "# load data\n",
    "with open(DATA_PATH_ROOT / \"simrec_predictions.npy\", \"rb\") as f:\n",
    "    REL_MATRIX = np.load(f)\n",
    "\n",
    "with open(DATA_PATH_ROOT / \"simrec_user_groups.json\", \"r\") as f:\n",
    "    GROUPS_MAP = json.load(f)"
   ]
  },
  {
   "cell_type": "code",
   "execution_count": 5,
   "id": "82c91b5a",
   "metadata": {},
   "outputs": [],
   "source": [
    "N_CONSUMERS = 500\n",
    "N_PRODUCERS = 500\n",
    "GROUP_KEY = \"top_category\"\n",
    "K_REC = 10\n",
    "SOLVER = cp.GUROBI\n",
    "GAMMA = 0.5\n",
    "ALPHA = 0.95"
   ]
  },
  {
   "cell_type": "code",
   "execution_count": 6,
   "id": "9cc95b5e",
   "metadata": {},
   "outputs": [],
   "source": [
    "rel_matrix_sampled, consumer_ids, group_assignments = sample_data_for_group(\n",
    "    n_consumers=N_CONSUMERS,\n",
    "    n_producers=N_PRODUCERS,\n",
    "    groups_map=GROUPS_MAP,\n",
    "    group_key=GROUP_KEY,\n",
    "    data=REL_MATRIX,\n",
    "    naive_sampling=True,\n",
    "    seed=0,\n",
    ")"
   ]
  },
  {
   "cell_type": "code",
   "execution_count": 7,
   "id": "383b89b9",
   "metadata": {},
   "outputs": [
    {
     "name": "stdout",
     "output_type": "stream",
     "text": [
      "Set parameter WLSAccessID\n",
      "Set parameter WLSSecret\n",
      "Set parameter LicenseID to value 2653936\n",
      "Academic license 2653936 - for non-commercial use only - registered to do___@student.uva.nl\n",
      "\n",
      "Interrupt request received\n"
     ]
    },
    {
     "name": "stderr",
     "output_type": "stream",
     "text": [
      "/Users/dominykas.seputis/github/msc-thesis/.venv/lib/python3.12/site-packages/cvxpy/problems/problem.py:1481: UserWarning: Solution may be inaccurate. Try another solver, adjusting the solver settings, or solve with verbose=True for more information.\n",
      "  warnings.warn(\n"
     ]
    }
   ],
   "source": [
    "min_allocations = _compute_consumer_optimal_solution_min(\n",
    "    rel_matrix=rel_matrix_sampled,\n",
    "    k_rec=K_REC,\n",
    "    producer_max_min_utility=10,\n",
    "    gamma=GAMMA,\n",
    "    solver=SOLVER\n",
    ")"
   ]
  },
  {
   "cell_type": "code",
   "execution_count": 8,
   "id": "92c69d40",
   "metadata": {},
   "outputs": [],
   "source": [
    "mean_allocations = _compute_consumer_optimal_solution_mean(\n",
    "    rel_matrix=rel_matrix_sampled,\n",
    "    k_rec=K_REC,\n",
    "    producer_max_min_utility=10,\n",
    "    gamma=GAMMA,\n",
    "    solver=SOLVER\n",
    ")"
   ]
  },
  {
   "cell_type": "code",
   "execution_count": 9,
   "id": "7e3e347b",
   "metadata": {},
   "outputs": [],
   "source": [
    "cvar_allocations =_compute_consumer_optimal_solution_cvar(\n",
    "    rel_matrix=rel_matrix_sampled,\n",
    "    k_rec=K_REC,\n",
    "    producer_max_min_utility=10,\n",
    "    gamma=GAMMA,\n",
    "    group_assignments=group_assignments,\n",
    "    alpha=ALPHA,\n",
    "    solver=SOLVER\n",
    ")"
   ]
  },
  {
   "cell_type": "code",
   "execution_count": 10,
   "id": "78d0d49b",
   "metadata": {},
   "outputs": [
    {
     "data": {
      "text/plain": [
       "array([[1.        , 0.83979592],\n",
       "       [0.83979592, 1.        ]])"
      ]
     },
     "execution_count": 10,
     "metadata": {},
     "output_type": "execute_result"
    }
   ],
   "source": [
    "# compute correlation\n",
    "np.corrcoef(cvar_allocations[1].flatten(), mean_allocations[1].flatten())"
   ]
  },
  {
   "cell_type": "code",
   "execution_count": 11,
   "id": "78d0d49b",
   "metadata": {},
   "outputs": [],
   "source": [
    "top_k_greedy = rel_matrix_sampled.argsort(axis=1)[:, -K_REC:]\n",
    "greedy_allocations = rel_matrix_sampled[np.arange(rel_matrix_sampled.shape[0])[:, None], top_k_greedy]"
   ]
  },
  {
   "cell_type": "code",
   "execution_count": 12,
   "id": "a3330638",
   "metadata": {},
   "outputs": [
    {
     "data": {
      "text/plain": [
       "array([0.9722648 , 0.84240887, 0.88441449, 0.75382594, 0.83346948,\n",
       "       0.86156197, 0.68601982, 0.64508558, 0.79760137, 0.6847946 ,\n",
       "       0.87764758, 0.71738399, 0.77773788, 0.68303825, 0.71636821,\n",
       "       0.72003417, 0.65703694, 0.83073376, 0.76867712, 0.74575702,\n",
       "       0.66191602, 0.61258797, 0.72761068, 0.76887842, 0.65736552,\n",
       "       0.79947355, 0.88627223, 0.6957639 , 0.62655866, 0.96812817,\n",
       "       0.72683386, 0.84295127, 0.76519283, 0.97947424, 0.69370959,\n",
       "       0.76536847, 0.80651961, 0.79620376, 0.82046278, 0.6835959 ,\n",
       "       0.53551043, 0.76545732, 0.9316394 , 0.76262364, 0.74453226,\n",
       "       0.69336863, 0.86828856, 0.66418633, 0.77495491, 0.69822955,\n",
       "       0.73284255, 0.61300284, 0.65287266, 0.9672841 , 0.64683277,\n",
       "       0.76585816, 0.7525927 , 0.84088946, 0.80356908, 0.58972   ,\n",
       "       0.97720277, 0.90351483, 0.67636898, 0.63876196, 0.68959555,\n",
       "       0.61596989, 0.90677943, 0.69267044, 0.78352416, 0.71530898,\n",
       "       0.81582383, 0.85286504, 0.74081956, 0.8625579 , 0.7970802 ,\n",
       "       0.76873502, 0.74351296, 0.71427058, 0.7945934 , 0.84964338,\n",
       "       0.69059543, 0.79024564, 0.68403325, 0.84549233, 0.75048465,\n",
       "       0.83818621, 0.72654769, 0.77569131, 0.92684597, 0.77936281,\n",
       "       0.81927738, 0.66569934, 0.98031775, 0.80080257, 0.83292141,\n",
       "       0.71099557, 0.73879177, 0.83658697, 0.87703301, 0.87087559,\n",
       "       0.59462098, 0.6654674 , 0.77471572, 0.86723638, 0.78698325,\n",
       "       0.82231332, 0.70731845, 0.6974915 , 0.72089483, 0.71771861,\n",
       "       0.73041963, 0.75604246, 0.73471505, 0.66502302, 0.81817369,\n",
       "       0.78415427, 0.84735497, 0.8348606 , 0.64497957, 0.78821274,\n",
       "       0.75288041, 0.86149809, 0.81722378, 0.92398747, 0.71052828,\n",
       "       0.73214205, 0.65335213, 0.80453258, 0.67661914, 0.77058743,\n",
       "       0.73773533, 0.63712643, 0.71793678, 0.70075562, 0.61282844,\n",
       "       0.94702159, 0.79949743, 0.76198329, 0.67056731, 0.5698883 ,\n",
       "       0.79262127, 0.88300909, 0.75593297, 0.81264629, 0.84207485,\n",
       "       0.77439715, 0.91791549, 0.75509478, 0.66068152, 0.77578595,\n",
       "       0.67919353, 0.72856936, 0.87655013, 0.59444205, 0.8287239 ,\n",
       "       0.74033299, 0.72996735, 0.69099674, 0.63480014, 0.85214819,\n",
       "       0.7704174 , 0.80578458, 0.88959381, 0.89559858, 0.70674337,\n",
       "       0.82393603, 0.76798055, 0.68417465, 0.77576225, 0.74522252,\n",
       "       0.86280604, 0.70735053, 0.81978089, 0.72247148, 0.79391743,\n",
       "       0.6163234 , 0.8950766 , 0.63595041, 0.91584894, 0.64032366,\n",
       "       0.88427851, 0.89673187, 0.75186518, 0.77381774, 0.74490585,\n",
       "       0.94286961, 0.88097985, 0.86894752, 0.85600816, 0.72750109,\n",
       "       0.94117306, 0.66028997, 0.93448634, 0.91758182, 0.86811435,\n",
       "       0.86623646, 0.81598028, 0.76024226, 0.79704011, 0.83482662,\n",
       "       0.8211664 , 0.87436853, 0.75269642, 0.87400548, 0.70323022,\n",
       "       0.86335346, 0.78446549, 0.79909468, 0.75878381, 0.92016945,\n",
       "       0.88356309, 0.63623001, 0.88378751, 0.70829532, 0.7762216 ,\n",
       "       0.81972312, 0.75575062, 0.84672363, 0.63984849, 0.70851944,\n",
       "       0.71390696, 0.80752667, 0.89915639, 0.92472323, 0.68091316,\n",
       "       0.66402006, 0.7350663 , 0.73417416, 0.75289185, 0.78516688,\n",
       "       0.66320779, 0.78277764, 0.7633886 , 0.85869342, 0.75782829,\n",
       "       0.62761423, 0.82073792, 0.75656683, 0.68251666, 0.70046586,\n",
       "       0.72844868, 0.62858395, 0.65200852, 0.81074199, 0.71375954,\n",
       "       0.89246745, 0.78181554, 0.7904074 , 0.64978385, 0.65647328,\n",
       "       0.81967431, 0.75428118, 0.9649837 , 0.81445528, 0.71324575,\n",
       "       0.7907323 , 0.73699213, 0.70535032, 0.74352258, 0.76264803,\n",
       "       0.87245261, 0.77691274, 0.97334333, 0.73786145, 0.90505396,\n",
       "       0.83091244, 0.87009977, 0.69828898, 0.80907953, 0.81738571,\n",
       "       0.71939226, 0.76577994, 0.71618335, 0.90111137, 0.6035695 ,\n",
       "       0.78502591, 0.66329892, 0.88480818, 0.69985921, 0.85262311,\n",
       "       0.84120739, 0.78078346, 0.67808791, 0.77684501, 0.69096313,\n",
       "       0.70803166, 0.80095341, 0.70700678, 0.7780937 , 0.86771926,\n",
       "       0.86384256, 0.90431487, 0.9774874 , 0.84080964, 0.62855304,\n",
       "       0.74957017, 0.67329174, 0.75173887, 0.87813516, 0.9269638 ,\n",
       "       0.7550486 , 0.75792985, 0.7536502 , 0.75248726, 0.70003258,\n",
       "       0.95644806, 0.9124012 , 0.77141877, 0.75148897, 0.72581677,\n",
       "       0.79787328, 0.83772082, 0.70380446, 0.74428756, 0.73932   ,\n",
       "       0.62988001, 0.78639404, 0.77298744, 0.83569359, 0.68561687,\n",
       "       0.70243112, 0.9415654 , 0.87215229, 0.69547605, 0.75677315,\n",
       "       0.76174207, 0.76244296, 0.69958393, 0.81498721, 0.69397788,\n",
       "       0.78830976, 0.78698991, 0.81704694, 0.93741191, 0.82654082,\n",
       "       0.90512324, 0.74533329, 0.92736294, 0.77373885, 0.79549046,\n",
       "       0.61277566, 0.87387238, 0.68409466, 0.64503099, 0.73289624,\n",
       "       0.68424302, 0.70739588, 0.97972128, 0.65502234, 0.9364932 ,\n",
       "       0.7931629 , 0.79346096, 0.87707056, 0.59268736, 0.74803536,\n",
       "       0.73909127, 0.75122163, 0.59997591, 0.70975352, 0.9484063 ,\n",
       "       0.73050912, 0.69147788, 0.66133446, 0.64493564, 0.6772883 ,\n",
       "       0.78532509, 0.59296484, 0.56603406, 0.66513905, 0.82315552,\n",
       "       0.77345267, 0.59166534, 0.8372313 , 0.76504922, 0.71735603,\n",
       "       0.81221925, 0.73974015, 0.77168955, 0.79338308, 0.65347925,\n",
       "       0.75064151, 0.73233133, 0.68566662, 0.78294543, 0.66917188,\n",
       "       0.74173585, 0.66520974, 0.74362063, 0.7462733 , 0.76177711,\n",
       "       0.64508732, 0.64670614, 0.71422153, 0.88654122, 0.77751065,\n",
       "       0.75808813, 0.84264799, 0.7157412 , 0.85202316, 0.64378414,\n",
       "       0.74184691, 0.71314512, 0.72117057, 0.70701734, 0.8769018 ,\n",
       "       0.83907016, 0.82963257, 0.76981411, 0.7266001 , 0.81995545,\n",
       "       0.98915656, 0.74525393, 0.92234805, 0.97053723, 0.67162995,\n",
       "       0.81784633, 0.88893881, 0.91007715, 0.65885081, 0.84307918,\n",
       "       0.75190233, 0.75635519, 0.75494373, 0.73253307, 0.85593789,\n",
       "       0.72802637, 0.69332321, 0.81024271, 0.76708513, 0.69779099,\n",
       "       0.70739077, 0.81614017, 0.72863664, 0.83994678, 0.73305637,\n",
       "       0.97166048, 0.86953603, 0.85814705, 0.80819741, 0.83990844,\n",
       "       0.86953761, 0.80408569, 0.79387483, 0.60043447, 0.82911058,\n",
       "       0.99921825, 0.99990615, 0.99999999, 0.82833525, 0.74321419,\n",
       "       0.99749402, 0.83005904, 0.83055922, 0.99684176, 0.82582673,\n",
       "       0.65791421, 0.82865772, 0.99959973, 0.99905744, 0.82951927,\n",
       "       0.82926603, 0.82869291, 0.99913381, 1.00000001, 0.83196778,\n",
       "       0.99956289, 0.82941367, 0.99962341, 0.99918677, 0.82878399,\n",
       "       0.83068902, 0.9988771 , 0.82965736, 0.8286361 , 0.82761209,\n",
       "       0.91352501, 0.91324401, 0.82886841, 0.9150194 , 0.74407375,\n",
       "       0.83101884, 0.83019038, 0.83095833, 0.82927712, 0.82875719,\n",
       "       0.82933025, 0.1172158 , 0.11726284, 0.11714428, 0.56797079,\n",
       "       0.47691619, 0.47915707, 0.47670216, 0.56795006, 0.47705119,\n",
       "       0.47735846, 0.47661661, 0.47749705, 0.1459606 , 0.14630273])"
      ]
     },
     "execution_count": 12,
     "metadata": {},
     "output_type": "execute_result"
    }
   ],
   "source": [
    "(mean_allocations[1] * rel_matrix_sampled).sum(axis=1)  / greedy_allocations.sum(axis=1)"
   ]
  },
  {
   "cell_type": "code",
   "execution_count": 13,
   "id": "6de1f838",
   "metadata": {},
   "outputs": [],
   "source": [
    "min_vals = min_allocations[1] * rel_matrix_sampled\n",
    "mean_vals = mean_allocations[1] * rel_matrix_sampled\n",
    "cvar_vals = cvar_allocations[1] * rel_matrix_sampled\n",
    "min_vals = min_vals.sum(axis=1) / greedy_allocations.sum(axis=1)\n",
    "mean_vals = mean_vals.sum(axis=1) / greedy_allocations.sum(axis=1)\n",
    "cvar_vals = cvar_vals.sum(axis=1) / greedy_allocations.sum(axis=1)"
   ]
  },
  {
   "cell_type": "code",
   "execution_count": 14,
   "id": "299bc8d9",
   "metadata": {},
   "outputs": [
    {
     "data": {
      "text/plain": [
       "<matplotlib.legend.Legend at 0x31a8018b0>"
      ]
     },
     "execution_count": 14,
     "metadata": {},
     "output_type": "execute_result"
    },
    {
     "data": {
      "image/png": "[encoded data removed]",
      "text/plain": [
       "<Figure size 800x600 with 1 Axes>"
      ]
     },
     "metadata": {},
     "output_type": "display_data"
    }
   ],
   "source": [
    "mean_vals_per_group = {}\n",
    "for group in set(group_assignments):\n",
    "    mean_vals_per_group[group] = mean_vals[group_assignments == group].mean()\n",
    "\n",
    "plt.figure(figsize=(8, 6))\n",
    "plt.title(\"Mean Utility per Group\")\n",
    "plt.xlabel(\"Group\")\n",
    "plt.ylabel(\"Mean Utility\")\n",
    "plt.xticks(rotation=45)\n",
    "plt.bar(mean_vals_per_group.keys(), mean_vals_per_group.values(), label=\"Mean\", alpha=0.5)\n",
    "\n",
    "mean_vals_per_group = {}\n",
    "for group in set(group_assignments):\n",
    "    mean_vals_per_group[group] = cvar_vals[group_assignments == group].mean()\n",
    "\n",
    "plt.bar(mean_vals_per_group.keys(), mean_vals_per_group.values(), label=\"CVaR\", alpha=0.5)\n",
    "plt.legend(loc=\"lower right\")\n"
   ]
  },
  {
   "cell_type": "code",
   "execution_count": 15,
   "id": "68c9fa01",
   "metadata": {},
   "outputs": [],
   "source": [
    "sns.set_style(\"white\")\n",
    "mpl.rc('font', **{'size': 14})\n",
    "plt.rcParams[\"font.family\"] = \"Times New Roman\"\n",
    "sns.set_palette(\"tab10\")"
   ]
  },
  {
   "cell_type": "code",
   "execution_count": 16,
   "id": "c91d644a",
   "metadata": {},
   "outputs": [
    {
     "data": {
      "text/plain": [
       "<matplotlib.legend.Legend at 0x31e4d6ed0>"
      ]
     },
     "execution_count": 16,
     "metadata": {},
     "output_type": "execute_result"
    },
    {
     "data": {
      "image/png": "[encoded data removed]",
      "text/plain": [
       "<Figure size 600x500 with 1 Axes>"
      ]
     },
     "metadata": {},
     "output_type": "display_data"
    }
   ],
   "source": [
    "fig, ax = plt.subplots(figsize=(6, 5))\n",
    "plt.grid(True, linestyle=\"--\", alpha=0.4)\n",
    "plt.hist(mean_vals, bins=10, alpha=0.5, label=\"Mean\", density=False)\n",
    "plt.hist(cvar_vals, bins=10, alpha=0.5, label=\"CVaR\", density=False)\n",
    "#ax.set_yscale('log')\n",
    "plt.legend()"
   ]
  },
  {
   "cell_type": "code",
   "execution_count": 17,
   "id": "0cbe1fdd",
   "metadata": {},
   "outputs": [
    {
     "data": {
      "text/plain": [
       "array([[0.14136478, 0.25235665, 0.8643186 , ..., 0.21613188, 0.27130732,\n",
       "        0.99873024],\n",
       "       [0.14073606, 0.2537272 , 0.8642438 , ..., 0.21563466, 0.27206996,\n",
       "        0.99650216],\n",
       "       [0.14038816, 0.25360373, 0.86335915, ..., 0.21614967, 0.27111855,\n",
       "        0.9982532 ],\n",
       "       ...,\n",
       "       [0.11676946, 0.16587323, 0.66469264, ..., 0.14973545, 0.17419238,\n",
       "        0.9810993 ],\n",
       "       [0.10604095, 0.1271143 , 0.35596168, ..., 0.12055673, 0.13064224,\n",
       "        0.7792211 ],\n",
       "       [0.10529602, 0.12744884, 0.35482   , ..., 0.12012885, 0.13066569,\n",
       "        0.7755021 ]], shape=(500, 500), dtype=float32)"
      ]
     },
     "execution_count": 17,
     "metadata": {},
     "output_type": "execute_result"
    }
   ],
   "source": [
    "rel_matrix_sampled"
   ]
  }
 ],
 "metadata": {
  "kernelspec": {
   "display_name": ".venv",
   "language": "python",
   "name": "python3"
  },
  "language_info": {
   "codemirror_mode": {
    "name": "ipython",
    "version": 3
   },
   "file_extension": ".py",
   "mimetype": "text/x-python",
   "name": "python",
   "nbconvert_exporter": "python",
   "pygments_lexer": "ipython3",
   "version": "3.12.7"
  }
 },
 "nbformat": 4,
 "nbformat_minor": 5
}

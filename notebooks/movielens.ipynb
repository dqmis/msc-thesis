{
 "cells": [
  {
   "cell_type": "code",
   "execution_count": 1,
   "metadata": {},
   "outputs": [],
   "source": [
    "%load_ext autoreload\n",
    "%autoreload 2"
   ]
  },
  {
   "cell_type": "code",
   "execution_count": null,
   "metadata": {},
   "outputs": [
    {
     "ename": "ModuleNotFoundError",
     "evalue": "No module named 'src.data'",
     "output_type": "error",
     "traceback": [
      "\u001b[0;31m---------------------------------------------------------------------------\u001b[0m",
      "\u001b[0;31mModuleNotFoundError\u001b[0m                       Traceback (most recent call last)",
      "Cell \u001b[0;32mIn[2], line 12\u001b[0m\n\u001b[1;32m      8\u001b[0m \u001b[38;5;28;01mimport\u001b[39;00m\u001b[38;5;250m \u001b[39m\u001b[38;5;21;01mnumpy\u001b[39;00m\u001b[38;5;250m \u001b[39m\u001b[38;5;28;01mas\u001b[39;00m\u001b[38;5;250m \u001b[39m\u001b[38;5;21;01mnp\u001b[39;00m\n\u001b[1;32m     10\u001b[0m \u001b[38;5;28;01mimport\u001b[39;00m\u001b[38;5;250m \u001b[39m\u001b[38;5;21;01mpandas\u001b[39;00m\u001b[38;5;250m \u001b[39m\u001b[38;5;28;01mas\u001b[39;00m\u001b[38;5;250m \u001b[39m\u001b[38;5;21;01mpd\u001b[39;00m\n\u001b[0;32m---> 12\u001b[0m \u001b[38;5;28;01mfrom\u001b[39;00m\u001b[38;5;250m \u001b[39m\u001b[38;5;21;01msrc\u001b[39;00m\u001b[38;5;21;01m.\u001b[39;00m\u001b[38;5;21;01mdata\u001b[39;00m\u001b[38;5;21;01m.\u001b[39;00m\u001b[38;5;21;01mmovielens\u001b[39;00m\u001b[38;5;250m \u001b[39m\u001b[38;5;28;01mimport\u001b[39;00m MovieLensDataset\n\u001b[1;32m     13\u001b[0m \u001b[38;5;28;01mfrom\u001b[39;00m\u001b[38;5;250m \u001b[39m\u001b[38;5;21;01msrc\u001b[39;00m\u001b[38;5;21;01m.\u001b[39;00m\u001b[38;5;21;01mdata\u001b[39;00m\u001b[38;5;21;01m.\u001b[39;00m\u001b[38;5;21;01mutils\u001b[39;00m\u001b[38;5;250m \u001b[39m\u001b[38;5;28;01mimport\u001b[39;00m split_train_test_by_ts\n\u001b[1;32m     15\u001b[0m \u001b[38;5;28;01mfrom\u001b[39;00m\u001b[38;5;250m \u001b[39m\u001b[38;5;21;01msrc\u001b[39;00m\u001b[38;5;21;01m.\u001b[39;00m\u001b[38;5;21;01mutils\u001b[39;00m\u001b[38;5;250m \u001b[39m\u001b[38;5;28;01mimport\u001b[39;00m random_seed\n",
      "\u001b[0;31mModuleNotFoundError\u001b[0m: No module named 'src.data'"
     ]
    }
   ],
   "source": [
    "import torch\n",
    "\n",
    "from torch import nn\n",
    "from torch.utils.data import DataLoader\n",
    "import sys\n",
    "\n",
    "from collections import defaultdict\n",
    "import numpy as np\n",
    "\n",
    "import pandas as pd\n",
    "\n",
    "from src.data.movielens import MovieLensDataset\n",
    "from src.data.utils import split_train_test_by_ts\n",
    "\n",
    "from src.utils import random_seed\n",
    "\n",
    "from src.models.movielens import RecommendationSystemModel\n",
    "\n",
    "from src.measures import (\n",
    "    plot_loss_per_group,\n",
    "    get_mean_utility_at_k,\n",
    "    plot_user_utility_per_group,\n",
    "    calculate_precision_recall,\n",
    ")"
   ]
  },
  {
   "cell_type": "code",
   "execution_count": 5,
   "metadata": {},
   "outputs": [],
   "source": [
    "from torch.utils.data import Dataset\n",
    "from pathlib import Path\n",
    "import pandas as pd"
   ]
  },
  {
   "cell_type": "code",
   "execution_count": 26,
   "metadata": {},
   "outputs": [],
   "source": [
    "root_path = Path(\"../data/ml-100k\")\n",
    "\n",
    "data_df = pd.read_csv(root_path / \"u.data\", sep=\"\\t\", header=None, names=[\"user_id\", \"item_id\", \"rating\", \"timestamp\"])\n",
    "genres_df = pd.read_csv(root_path / \"u.genre\", sep=\"|\", header=None, encoding=\"latin-1\", names=[\"genre\", \"id\"])\n",
    "movies_df = pd.read_csv(root_path / \"u.item\", sep=\"|\", header=None, encoding=\"latin-1\", names=[\"item_id\", \"title\", \"release_date\", \"empty\", \"link\"] + list(genres_df[\"genre\"]))"
   ]
  },
  {
   "cell_type": "code",
   "execution_count": 27,
   "metadata": {},
   "outputs": [],
   "source": [
    "# assign one random genre to each movie from the list of genres (which is a one-hot encoding)\n",
    "genre_titles = genres_df[\"genre\"].values\n",
    "for i, row in movies_df.iterrows():\n",
    "    genres = row[5:].values\n",
    "    genres = np.where(genres == 1)[0]\n",
    "    if len(genres) > 0:\n",
    "        movies_df.at[i, \"genre\"] = genre_titles[np.random.choice(genres)]\n",
    "    else:\n",
    "        movies_df.at[i, \"genre\"] = -1"
   ]
  },
  {
   "cell_type": "code",
   "execution_count": 33,
   "metadata": {},
   "outputs": [],
   "source": [
    "movies_df = movies_df[[\"item_id\", \"genre\"]]"
   ]
  },
  {
   "cell_type": "code",
   "execution_count": 38,
   "metadata": {},
   "outputs": [],
   "source": [
    "data_df[\"label\"] = data_df[\"rating\"].apply(lambda x: 1 if x > 3 else 0)"
   ]
  },
  {
   "cell_type": "code",
   "execution_count": 45,
   "metadata": {},
   "outputs": [
    {
     "data": {
      "text/html": [
       "<div>\n",
       "<style scoped>\n",
       "    .dataframe tbody tr th:only-of-type {\n",
       "        vertical-align: middle;\n",
       "    }\n",
       "\n",
       "    .dataframe tbody tr th {\n",
       "        vertical-align: top;\n",
       "    }\n",
       "\n",
       "    .dataframe thead th {\n",
       "        text-align: right;\n",
       "    }\n",
       "</style>\n",
       "<table border=\"1\" class=\"dataframe\">\n",
       "  <thead>\n",
       "    <tr style=\"text-align: right;\">\n",
       "      <th></th>\n",
       "      <th>item_id</th>\n",
       "      <th>genre</th>\n",
       "    </tr>\n",
       "  </thead>\n",
       "  <tbody>\n",
       "    <tr>\n",
       "      <th>0</th>\n",
       "      <td>1</td>\n",
       "      <td>Children's</td>\n",
       "    </tr>\n",
       "    <tr>\n",
       "      <th>1</th>\n",
       "      <td>2</td>\n",
       "      <td>Adventure</td>\n",
       "    </tr>\n",
       "    <tr>\n",
       "      <th>2</th>\n",
       "      <td>3</td>\n",
       "      <td>Thriller</td>\n",
       "    </tr>\n",
       "    <tr>\n",
       "      <th>3</th>\n",
       "      <td>4</td>\n",
       "      <td>Drama</td>\n",
       "    </tr>\n",
       "    <tr>\n",
       "      <th>4</th>\n",
       "      <td>5</td>\n",
       "      <td>Drama</td>\n",
       "    </tr>\n",
       "    <tr>\n",
       "      <th>...</th>\n",
       "      <td>...</td>\n",
       "      <td>...</td>\n",
       "    </tr>\n",
       "    <tr>\n",
       "      <th>1677</th>\n",
       "      <td>1678</td>\n",
       "      <td>Drama</td>\n",
       "    </tr>\n",
       "    <tr>\n",
       "      <th>1678</th>\n",
       "      <td>1679</td>\n",
       "      <td>Romance</td>\n",
       "    </tr>\n",
       "    <tr>\n",
       "      <th>1679</th>\n",
       "      <td>1680</td>\n",
       "      <td>Drama</td>\n",
       "    </tr>\n",
       "    <tr>\n",
       "      <th>1680</th>\n",
       "      <td>1681</td>\n",
       "      <td>Comedy</td>\n",
       "    </tr>\n",
       "    <tr>\n",
       "      <th>1681</th>\n",
       "      <td>1682</td>\n",
       "      <td>Drama</td>\n",
       "    </tr>\n",
       "  </tbody>\n",
       "</table>\n",
       "<p>1682 rows × 2 columns</p>\n",
       "</div>"
      ],
      "text/plain": [
       "      item_id       genre\n",
       "0           1  Children's\n",
       "1           2   Adventure\n",
       "2           3    Thriller\n",
       "3           4       Drama\n",
       "4           5       Drama\n",
       "...       ...         ...\n",
       "1677     1678       Drama\n",
       "1678     1679     Romance\n",
       "1679     1680       Drama\n",
       "1680     1681      Comedy\n",
       "1681     1682       Drama\n",
       "\n",
       "[1682 rows x 2 columns]"
      ]
     },
     "execution_count": 45,
     "metadata": {},
     "output_type": "execute_result"
    }
   ],
   "source": [
    "movies_df"
   ]
  },
  {
   "cell_type": "code",
   "execution_count": 44,
   "metadata": {},
   "outputs": [
    {
     "data": {
      "text/html": [
       "<div>\n",
       "<style scoped>\n",
       "    .dataframe tbody tr th:only-of-type {\n",
       "        vertical-align: middle;\n",
       "    }\n",
       "\n",
       "    .dataframe tbody tr th {\n",
       "        vertical-align: top;\n",
       "    }\n",
       "\n",
       "    .dataframe thead th {\n",
       "        text-align: right;\n",
       "    }\n",
       "</style>\n",
       "<table border=\"1\" class=\"dataframe\">\n",
       "  <thead>\n",
       "    <tr style=\"text-align: right;\">\n",
       "      <th></th>\n",
       "      <th>user_id</th>\n",
       "      <th>item_id</th>\n",
       "      <th>rating</th>\n",
       "      <th>timestamp</th>\n",
       "      <th>label</th>\n",
       "    </tr>\n",
       "  </thead>\n",
       "  <tbody>\n",
       "    <tr>\n",
       "      <th>0</th>\n",
       "      <td>196</td>\n",
       "      <td>242</td>\n",
       "      <td>3</td>\n",
       "      <td>881250949</td>\n",
       "      <td>0</td>\n",
       "    </tr>\n",
       "    <tr>\n",
       "      <th>1</th>\n",
       "      <td>186</td>\n",
       "      <td>302</td>\n",
       "      <td>3</td>\n",
       "      <td>891717742</td>\n",
       "      <td>0</td>\n",
       "    </tr>\n",
       "    <tr>\n",
       "      <th>2</th>\n",
       "      <td>22</td>\n",
       "      <td>377</td>\n",
       "      <td>1</td>\n",
       "      <td>878887116</td>\n",
       "      <td>0</td>\n",
       "    </tr>\n",
       "    <tr>\n",
       "      <th>3</th>\n",
       "      <td>244</td>\n",
       "      <td>51</td>\n",
       "      <td>2</td>\n",
       "      <td>880606923</td>\n",
       "      <td>0</td>\n",
       "    </tr>\n",
       "    <tr>\n",
       "      <th>4</th>\n",
       "      <td>166</td>\n",
       "      <td>346</td>\n",
       "      <td>1</td>\n",
       "      <td>886397596</td>\n",
       "      <td>0</td>\n",
       "    </tr>\n",
       "    <tr>\n",
       "      <th>...</th>\n",
       "      <td>...</td>\n",
       "      <td>...</td>\n",
       "      <td>...</td>\n",
       "      <td>...</td>\n",
       "      <td>...</td>\n",
       "    </tr>\n",
       "    <tr>\n",
       "      <th>99995</th>\n",
       "      <td>880</td>\n",
       "      <td>476</td>\n",
       "      <td>3</td>\n",
       "      <td>880175444</td>\n",
       "      <td>0</td>\n",
       "    </tr>\n",
       "    <tr>\n",
       "      <th>99996</th>\n",
       "      <td>716</td>\n",
       "      <td>204</td>\n",
       "      <td>5</td>\n",
       "      <td>879795543</td>\n",
       "      <td>1</td>\n",
       "    </tr>\n",
       "    <tr>\n",
       "      <th>99997</th>\n",
       "      <td>276</td>\n",
       "      <td>1090</td>\n",
       "      <td>1</td>\n",
       "      <td>874795795</td>\n",
       "      <td>0</td>\n",
       "    </tr>\n",
       "    <tr>\n",
       "      <th>99998</th>\n",
       "      <td>13</td>\n",
       "      <td>225</td>\n",
       "      <td>2</td>\n",
       "      <td>882399156</td>\n",
       "      <td>0</td>\n",
       "    </tr>\n",
       "    <tr>\n",
       "      <th>99999</th>\n",
       "      <td>12</td>\n",
       "      <td>203</td>\n",
       "      <td>3</td>\n",
       "      <td>879959583</td>\n",
       "      <td>0</td>\n",
       "    </tr>\n",
       "  </tbody>\n",
       "</table>\n",
       "<p>100000 rows × 5 columns</p>\n",
       "</div>"
      ],
      "text/plain": [
       "       user_id  item_id  rating  timestamp  label\n",
       "0          196      242       3  881250949      0\n",
       "1          186      302       3  891717742      0\n",
       "2           22      377       1  878887116      0\n",
       "3          244       51       2  880606923      0\n",
       "4          166      346       1  886397596      0\n",
       "...        ...      ...     ...        ...    ...\n",
       "99995      880      476       3  880175444      0\n",
       "99996      716      204       5  879795543      1\n",
       "99997      276     1090       1  874795795      0\n",
       "99998       13      225       2  882399156      0\n",
       "99999       12      203       3  879959583      0\n",
       "\n",
       "[100000 rows x 5 columns]"
      ]
     },
     "execution_count": 44,
     "metadata": {},
     "output_type": "execute_result"
    }
   ],
   "source": [
    "data_df"
   ]
  },
  {
   "cell_type": "code",
   "execution_count": 50,
   "metadata": {},
   "outputs": [],
   "source": [
    "data_df = data_df.merge(movies_df, on=\"item_id\", how=\"left\")"
   ]
  },
  {
   "cell_type": "code",
   "execution_count": 87,
   "metadata": {},
   "outputs": [
    {
     "name": "stdout",
     "output_type": "stream",
     "text": [
      "min usage count:  20\n",
      "mean: 106.04453870625663, std: 100.93174276633498\n",
      "5.112795939921654\n"
     ]
    }
   ],
   "source": [
    "# get top genre for each user\n",
    "def get_top_genre_per_user(data_df):\n",
    "\n",
    "    # Group by user_id and genre, and count the number of ratings for each genre\n",
    "    genre_counts = data_df.groupby([\"user_id\", \"genre\"]).size().reset_index(name=\"count\")\n",
    "\n",
    "    # Get the top genre for each user\n",
    "    top_genre = genre_counts.loc[genre_counts.groupby(\"user_id\")[\"count\"].idxmax()]\n",
    "\n",
    "    return top_genre[[\"user_id\", \"genre\"]].reset_index(drop=True)\n",
    "\n",
    "def get_usage_category_per_user(data_df):\n",
    "    # 2 std below mean is low; 2 std above mean is high the rest is medium\n",
    "    # get usage by the number of rated items per user\n",
    "    usage_counts = data_df.groupby(\"user_id\").size().reset_index(name=\"count\")\n",
    "    print(\"min usage count: \", usage_counts[\"count\"].min())\n",
    "    mean = usage_counts[\"count\"].mean()\n",
    "    std = usage_counts[\"count\"].std()\n",
    "    usage_counts[\"usage\"] = \"medium\"\n",
    "    print(f\"mean: {mean}, std: {std}\")\n",
    "    print(mean - std)\n",
    "    usage_counts.loc[usage_counts[\"count\"] < mean, \"usage\"] = \"low\"\n",
    "    usage_counts.loc[usage_counts[\"count\"] > mean + 2 * std, \"usage\"] = \"high\"\n",
    "\n",
    "    return usage_counts[[\"user_id\", \"usage\"]].reset_index(drop=True)\n",
    "\n",
    "\n",
    "top_genre_df = get_top_genre_per_user(data_df)\n",
    "usage_df = get_usage_category_per_user(data_df)"
   ]
  },
  {
   "cell_type": "code",
   "execution_count": 93,
   "metadata": {},
   "outputs": [
    {
     "data": {
      "text/html": [
       "<div>\n",
       "<style scoped>\n",
       "    .dataframe tbody tr th:only-of-type {\n",
       "        vertical-align: middle;\n",
       "    }\n",
       "\n",
       "    .dataframe tbody tr th {\n",
       "        vertical-align: top;\n",
       "    }\n",
       "\n",
       "    .dataframe thead th {\n",
       "        text-align: right;\n",
       "    }\n",
       "</style>\n",
       "<table border=\"1\" class=\"dataframe\">\n",
       "  <thead>\n",
       "    <tr style=\"text-align: right;\">\n",
       "      <th></th>\n",
       "      <th>user_id</th>\n",
       "      <th>genre</th>\n",
       "      <th>usage</th>\n",
       "    </tr>\n",
       "  </thead>\n",
       "  <tbody>\n",
       "    <tr>\n",
       "      <th>0</th>\n",
       "      <td>1</td>\n",
       "      <td>Drama</td>\n",
       "      <td>medium</td>\n",
       "    </tr>\n",
       "    <tr>\n",
       "      <th>1</th>\n",
       "      <td>2</td>\n",
       "      <td>Drama</td>\n",
       "      <td>low</td>\n",
       "    </tr>\n",
       "    <tr>\n",
       "      <th>2</th>\n",
       "      <td>3</td>\n",
       "      <td>Drama</td>\n",
       "      <td>low</td>\n",
       "    </tr>\n",
       "    <tr>\n",
       "      <th>3</th>\n",
       "      <td>4</td>\n",
       "      <td>Drama</td>\n",
       "      <td>low</td>\n",
       "    </tr>\n",
       "    <tr>\n",
       "      <th>4</th>\n",
       "      <td>5</td>\n",
       "      <td>Comedy</td>\n",
       "      <td>medium</td>\n",
       "    </tr>\n",
       "    <tr>\n",
       "      <th>...</th>\n",
       "      <td>...</td>\n",
       "      <td>...</td>\n",
       "      <td>...</td>\n",
       "    </tr>\n",
       "    <tr>\n",
       "      <th>938</th>\n",
       "      <td>939</td>\n",
       "      <td>Comedy</td>\n",
       "      <td>low</td>\n",
       "    </tr>\n",
       "    <tr>\n",
       "      <th>939</th>\n",
       "      <td>940</td>\n",
       "      <td>Drama</td>\n",
       "      <td>medium</td>\n",
       "    </tr>\n",
       "    <tr>\n",
       "      <th>940</th>\n",
       "      <td>941</td>\n",
       "      <td>Drama</td>\n",
       "      <td>low</td>\n",
       "    </tr>\n",
       "    <tr>\n",
       "      <th>941</th>\n",
       "      <td>942</td>\n",
       "      <td>Drama</td>\n",
       "      <td>low</td>\n",
       "    </tr>\n",
       "    <tr>\n",
       "      <th>942</th>\n",
       "      <td>943</td>\n",
       "      <td>Comedy</td>\n",
       "      <td>medium</td>\n",
       "    </tr>\n",
       "  </tbody>\n",
       "</table>\n",
       "<p>943 rows × 3 columns</p>\n",
       "</div>"
      ],
      "text/plain": [
       "     user_id   genre   usage\n",
       "0          1   Drama  medium\n",
       "1          2   Drama     low\n",
       "2          3   Drama     low\n",
       "3          4   Drama     low\n",
       "4          5  Comedy  medium\n",
       "..       ...     ...     ...\n",
       "938      939  Comedy     low\n",
       "939      940   Drama  medium\n",
       "940      941   Drama     low\n",
       "941      942   Drama     low\n",
       "942      943  Comedy  medium\n",
       "\n",
       "[943 rows x 3 columns]"
      ]
     },
     "execution_count": 93,
     "metadata": {},
     "output_type": "execute_result"
    }
   ],
   "source": [
    "users_df = top_genre_df.merge(usage_df, on=\"user_id\", how=\"left\")\n",
    "users_df"
   ]
  },
  {
   "cell_type": "code",
   "execution_count": 97,
   "metadata": {},
   "outputs": [],
   "source": [
    "res = []\n",
    "users_df = top_genre_df.merge(usage_df, on=\"user_id\", how=\"left\")\n",
    "for i, row in users_df.iterrows():\n",
    "    res.append(\n",
    "        {\n",
    "            \"user_id\": row[\"user_id\"] - 1,\n",
    "            \"usage_group\": row[\"usage\"],\n",
    "            \"top_category\": row[\"genre\"],\n",
    "        }\n",
    "    )\n",
    "res\n",
    "\n",
    "\n",
    "import json\n",
    "with open(\"movielens_user_groups.json\", \"w\") as f:\n",
    "    json.dump(res, f)"
   ]
  },
  {
   "cell_type": "code",
   "execution_count": 74,
   "metadata": {},
   "outputs": [
    {
     "data": {
      "image/png": "[encoded data removed]",
      "text/plain": [
       "<Figure size 600x300 with 1 Axes>"
      ]
     },
     "metadata": {},
     "output_type": "display_data"
    }
   ],
   "source": [
    "import matplotlib.pyplot as plt\n",
    "\n",
    "user_interactions = data_df.groupby(\"user_id\").count()\n",
    "interactions_count = user_interactions[\"item_id\"]\n",
    "\n",
    "mean = interactions_count.mean()\n",
    "std = interactions_count.std()\n",
    "\n",
    "higher_bound = mean * 2 + std\n",
    "lower_bound = mean * 2 - std\n",
    "\n",
    "plt.figure(figsize=(6, 3), dpi=100)\n",
    "interactions_count.hist(bins=30)\n",
    "plt.xlabel(\"Number of Interactions\")\n",
    "plt.ylabel(\"Number of Users\")\n",
    "\n",
    "plt.axvline(mean, color='r', linestyle='dashed', linewidth=1)\n",
    "plt.axvline(lower_bound, color='g', linestyle='dashed', linewidth=1)\n",
    "plt.axvline(higher_bound, color='y', linestyle='dashed', linewidth=1)\n",
    "\n",
    "plt.title(\"Number of Interactions per User\")\n",
    "plt.show()"
   ]
  },
  {
   "cell_type": "code",
   "execution_count": null,
   "metadata": {},
   "outputs": [],
   "source": [
    "class MovieLensDatase(Dataset):\n",
    "    def __init__(self, root_dir: Path):\n",
    "        self.data = data\n",
    "        self.user_col = user_col\n",
    "        self.item_col = item_col\n",
    "        self.rating_col = rating_col\n",
    "\n",
    "    def __len__(self):\n",
    "        return len(self.data)\n",
    "\n",
    "    def _load_data(self, root_dir: Path):\n",
    "        root_data = pd.read_csv(root_path / \"u.data\", sep=\"\\t\", header=None, names=[\"user_id\", \"item_id\", \"rating\", \"timestamp\"])\n",
    "        genres\n",
    "\n",
    "\n",
    "    def __getitem__(self, idx):\n",
    "        row = self.data.iloc[idx]\n",
    "        return {\n",
    "            'user': row[self.user_col],\n",
    "            'item': row[self.item_col],\n",
    "            'rating': row[self.rating_col]\n",
    "        }"
   ]
  },
  {
   "cell_type": "code",
   "execution_count": 3,
   "metadata": {},
   "outputs": [],
   "source": [
    "random_seed(0)"
   ]
  },
  {
   "cell_type": "code",
   "execution_count": 4,
   "metadata": {},
   "outputs": [],
   "source": [
    "# load data\n",
    "df = MovieLensDataset(download=True)._data\n",
    "# remove Unknown genre\n",
    "df = df[df.genre != \"Unknown\"]\n",
    "# remove users with less than 10 ratings\n",
    "df = df.groupby(\"user_id\").filter(lambda x: len(x) >= 10)\n",
    "\n",
    "USERS_COUNT = df.user_id.nunique()\n",
    "ITEMS_COUNT = df.item_id.nunique()\n",
    "\n",
    "df[\"user_id\"] = df[\"user_id\"].astype(\"category\").cat.codes.values\n",
    "df[\"item_id\"] = df[\"item_id\"].astype(\"category\").cat.codes.values\n",
    "\n",
    "train_df, test_df = split_train_test_by_ts(df, ts_col=\"timestamp\", entity_col=\"user_id\", test_size=0.2)"
   ]
  },
  {
   "cell_type": "code",
   "execution_count": 5,
   "metadata": {},
   "outputs": [],
   "source": [
    "BATCH_SIZE = 32\n",
    "\n",
    "train_dataset = MovieLensDataset(data=train_df)\n",
    "test_dataset = MovieLensDataset(data=test_df)\n",
    "\n",
    "train_loader = DataLoader(train_dataset, batch_size=BATCH_SIZE, shuffle=True)\n",
    "test_loader = DataLoader(test_dataset, batch_size=BATCH_SIZE, shuffle=False)\n",
    "\n",
    "device = torch.device(\"cuda\" if torch.cuda.is_available() else \"cpu\")"
   ]
  },
  {
   "cell_type": "code",
   "execution_count": 6,
   "metadata": {},
   "outputs": [
    {
     "name": "stderr",
     "output_type": "stream",
     "text": [
      "01/02 | Step: 800/80359 | Avg Loss: 0.134178385"
     ]
    },
    {
     "name": "stdout",
     "output_type": "stream",
     "text": [
      "Training on 80359 samples...\n"
     ]
    },
    {
     "name": "stderr",
     "output_type": "stream",
     "text": [
      "02/02 | Step: 80359/80359 | Avg Loss: 0.048617758"
     ]
    }
   ],
   "source": [
    "EPOCHS = 2\n",
    "\n",
    "loss_func = nn.BCEWithLogitsLoss()\n",
    "\n",
    "recommendation_model = RecommendationSystemModel(\n",
    "    num_users=USERS_COUNT,\n",
    "    num_movies=ITEMS_COUNT,\n",
    "    embedding_size=128,\n",
    "    hidden_dim=256,\n",
    "    dropout_rate=0.1,\n",
    ").to(device)\n",
    "\n",
    "optimizer = torch.optim.Adam(recommendation_model.parameters(), lr=1e-3)\n",
    "\n",
    "\n",
    "# Function to log progress\n",
    "def log_progress(epoch, step, total_loss, log_progress_step, data_size, losses):\n",
    "    avg_loss = total_loss / log_progress_step\n",
    "    sys.stderr.write(\n",
    "        f\"\\r{epoch + 1:02d}/{EPOCHS:02d} | Step: {step}/{data_size} | Avg Loss: {avg_loss:<6.9f}\"\n",
    "    )\n",
    "    sys.stderr.flush()\n",
    "    losses.append(avg_loss)\n",
    "\n",
    "\n",
    "total_loss = 0\n",
    "log_progress_step = 100\n",
    "losses = []\n",
    "train_dataset_size = len(train_dataset)\n",
    "print(f\"Training on {train_dataset_size} samples...\")\n",
    "\n",
    "recommendation_model.train()\n",
    "for e in range(EPOCHS):\n",
    "    step_count = 0  # Reset step count at the beginning of each epoch\n",
    "    for i, train_data in enumerate(train_loader):\n",
    "        output = recommendation_model(train_data[\"users\"].to(device), train_data[\"items\"].to(device))\n",
    "        # Reshape the model output to match the target's shape\n",
    "        output = output.squeeze()  # Removes the singleton dimension\n",
    "        ratings = train_data[\"labels\"].to(device)  # Assuming ratings is already 1D\n",
    "\n",
    "        mask = train_data[\"genre_mask\"].to(device)\n",
    "\n",
    "        loss = loss_func(output, ratings)\n",
    "        total_loss += loss.sum().item()\n",
    "        optimizer.zero_grad()\n",
    "        loss.backward()\n",
    "        optimizer.step()\n",
    "\n",
    "        # Increment step count by the actual size of the batch\n",
    "        step_count += len(train_data[\"users\"])\n",
    "\n",
    "        # Check if it's time to log progress\n",
    "        if step_count % log_progress_step == 0 or i == len(train_loader) - 1:  # Log at the end of each epoch\n",
    "            log_progress(e, step_count, total_loss, log_progress_step, train_dataset_size, losses)\n",
    "            total_loss = 0"
   ]
  },
  {
   "cell_type": "code",
   "execution_count": 10,
   "metadata": {},
   "outputs": [],
   "source": [
    "test_loader = DataLoader(test_dataset, batch_size=BATCH_SIZE, shuffle=False)\n",
    "\n",
    "predictions, targets = recommendation_model.predict(test_loader, device)\n",
    "test_df[\"probs\"] = 1 / (1 + np.exp(-predictions))"
   ]
  },
  {
   "cell_type": "code",
   "execution_count": 14,
   "metadata": {},
   "outputs": [
    {
     "data": {
      "image/png": "[encoded data removed]",
      "text/plain": [
       "<Figure size 640x480 with 1 Axes>"
      ]
     },
     "metadata": {},
     "output_type": "display_data"
    },
    {
     "data": {
      "image/png": "[encoded data removed]",
      "text/plain": [
       "<Figure size 640x480 with 1 Axes>"
      ]
     },
     "metadata": {},
     "output_type": "display_data"
    },
    {
     "data": {
      "image/png": "[encoded data removed]",
      "text/plain": [
       "<Figure size 640x480 with 1 Axes>"
      ]
     },
     "metadata": {},
     "output_type": "display_data"
    }
   ],
   "source": [
    "plot_loss_per_group(test_df, \"genre\")\n",
    "plot_loss_per_group(test_df, \"usage_group\")\n",
    "plot_loss_per_group(test_df, \"top_genre\")"
   ]
  },
  {
   "cell_type": "code",
   "execution_count": null,
   "metadata": {},
   "outputs": [
    {
     "name": "stdout",
     "output_type": "stream",
     "text": [
      "Mean utility at k=5: 0.890\n"
     ]
    },
    {
     "data": {
      "image/png": "[encoded data removed]",
      "text/plain": [
       "<Figure size 640x480 with 1 Axes>"
      ]
     },
     "metadata": {},
     "output_type": "display_data"
    },
    {
     "data": {
      "image/png": "[encoded data removed]",
      "text/plain": [
       "<Figure size 640x480 with 1 Axes>"
      ]
     },
     "metadata": {},
     "output_type": "display_data"
    }
   ],
   "source": [
    "k = 5\n",
    "print(f\"Mean utility at k={k}: {get_mean_utility_at_k(test_df, k):.3f}\")\n",
    "\n",
    "plot_user_utility_per_group(test_df, \"top_genre\", k)\n",
    "plot_user_utility_per_group(test_df, \"usage_group\", k)"
   ]
  },
  {
   "cell_type": "code",
   "execution_count": 17,
   "metadata": {},
   "outputs": [
    {
     "name": "stdout",
     "output_type": "stream",
     "text": [
      "precision @ 50: 0.9741\n",
      "recall @ 50: 0.1665\n"
     ]
    }
   ],
   "source": [
    "user_ratings_comparison = defaultdict(list)\n",
    "\n",
    "with torch.no_grad():\n",
    "    for valid_data in test_loader:\n",
    "        users = valid_data[\"users\"].to(device)\n",
    "        movies = valid_data[\"items\"].to(device)\n",
    "        ratings = valid_data[\"ratings\"].to(device)\n",
    "        output = recommendation_model(users, movies)\n",
    "\n",
    "        for user, pred, true in zip(users, output, ratings):\n",
    "            user_ratings_comparison[user.item()].append((pred[0].item(), true.item()))\n",
    "\n",
    "user_precisions = dict()\n",
    "user_based_recalls = dict()\n",
    "\n",
    "k = 50\n",
    "threshold = 3\n",
    "\n",
    "for user_id, user_ratings in user_ratings_comparison.items():\n",
    "    precision, recall = calculate_precision_recall(user_ratings, k, threshold)\n",
    "    user_precisions[user_id] = precision\n",
    "    user_based_recalls[user_id] = recall\n",
    "\n",
    "\n",
    "average_precision = sum(prec for prec in user_precisions.values()) / len(user_precisions)\n",
    "average_recall = sum(rec for rec in user_based_recalls.values()) / len(user_based_recalls)\n",
    "\n",
    "print(f\"precision @ {k}: {average_precision:.4f}\")\n",
    "print(f\"recall @ {k}: {average_recall:.4f}\")"
   ]
  },
  {
   "cell_type": "code",
   "execution_count": 18,
   "metadata": {},
   "outputs": [],
   "source": [
    "# create new df of movies each user never rated\n",
    "users = df.user_id.unique()\n",
    "movies = df.item_id.unique()\n",
    "user_movie = []\n",
    "for user in users:\n",
    "    for movie in movies:\n",
    "        if movie not in df[df.user_id == user].item_id.values:\n",
    "            user_movie.append({\"user_id\": user, \"item_id\": movie})\n",
    "\n",
    "movies_df = pd.DataFrame(user_movie)\n",
    "movies_df[\"genre\"] = \"Unknown\"\n",
    "movies_df[\"rating\"] = 0\n",
    "movies_loader = DataLoader(MovieLensDataset(data=movies_df), batch_size=BATCH_SIZE, shuffle=False)\n",
    "\n",
    "predictions, targets = recommendation_model.predict(movies_loader, device)\n",
    "movies_df[\"predictions\"] = predictions\n",
    "movies_df[\"probs\"] = movies_df[\"predictions\"].apply(lambda x: 1 / (1 + np.exp(-x)))"
   ]
  },
  {
   "cell_type": "code",
   "execution_count": null,
   "metadata": {},
   "outputs": [],
   "source": [
    "usage_groups = train_df.groupby(\"user_id\")[\"usage_group\"].first().reset_index()\n",
    "top_genres = train_df.groupby(\"user_id\")[\"top_genre\"].first().reset_index()\n",
    "\n",
    "user_groups = pd.merge(usage_groups, top_genres, on=\"user_id\")\n",
    "\n",
    "user_groups.sort_values(\"user_id\", inplace=True)\n",
    "user_groups.to_json(\"user_groups.json\", orient=\"records\")"
   ]
  },
  {
   "cell_type": "code",
   "execution_count": 33,
   "metadata": {},
   "outputs": [],
   "source": [
    "# export predictions\n",
    "\n",
    "movies_df.sort_values(by=[\"user_id\"], ascending=True, inplace=True)\n",
    "user_movie_matrix = movies_df.pivot_table(index=\"user_id\", columns=\"item_id\", values=\"probs\", fill_value=0.2)\n",
    "user_movie_matrix.reset_index(inplace=True, drop=True)\n",
    "\n",
    "with open(\"predictions.npy\", \"wb\") as f:\n",
    "    np.save(f, user_movie_matrix.to_numpy())"
   ]
  }
 ],
 "metadata": {
  "kernelspec": {
   "display_name": ".venv",
   "language": "python",
   "name": "python3"
  },
  "language_info": {
   "codemirror_mode": {
    "name": "ipython",
    "version": 3
   },
   "file_extension": ".py",
   "mimetype": "text/x-python",
   "name": "python",
   "nbconvert_exporter": "python",
   "pygments_lexer": "ipython3",
   "version": "3.12.7"
  }
 },
 "nbformat": 4,
 "nbformat_minor": 2
}
